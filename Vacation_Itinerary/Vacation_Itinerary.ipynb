{
 "cells": [
  {
   "cell_type": "markdown",
   "metadata": {},
   "source": [
    "## Deliverable 3. Create a Travel Itinerary Map."
   ]
  },
  {
   "cell_type": "code",
   "execution_count": 49,
   "metadata": {},
   "outputs": [],
   "source": [
    "# Dependencies and Setup\n",
    "import pandas as pd\n",
    "import requests\n",
    "import gmaps\n",
    "\n",
    "# Import API key\n",
    "from config import g_key\n",
    "\n",
    "# Configure gmaps\n",
    "gmaps.configure(api_key=g_key)"
   ]
  },
  {
   "cell_type": "code",
   "execution_count": 52,
   "metadata": {},
   "outputs": [
    {
     "data": {
      "text/html": [
       "<div>\n",
       "<style scoped>\n",
       "    .dataframe tbody tr th:only-of-type {\n",
       "        vertical-align: middle;\n",
       "    }\n",
       "\n",
       "    .dataframe tbody tr th {\n",
       "        vertical-align: top;\n",
       "    }\n",
       "\n",
       "    .dataframe thead th {\n",
       "        text-align: right;\n",
       "    }\n",
       "</style>\n",
       "<table border=\"1\" class=\"dataframe\">\n",
       "  <thead>\n",
       "    <tr style=\"text-align: right;\">\n",
       "      <th></th>\n",
       "      <th>City_ID</th>\n",
       "      <th>City</th>\n",
       "      <th>Country</th>\n",
       "      <th>Max Temp</th>\n",
       "      <th>Current Description</th>\n",
       "      <th>Lat</th>\n",
       "      <th>Lng</th>\n",
       "      <th>Hotel Name</th>\n",
       "    </tr>\n",
       "  </thead>\n",
       "  <tbody>\n",
       "    <tr>\n",
       "      <th>0</th>\n",
       "      <td>0</td>\n",
       "      <td>Bambous Virieux</td>\n",
       "      <td>MU</td>\n",
       "      <td>73.00</td>\n",
       "      <td>shower rain</td>\n",
       "      <td>-20.34</td>\n",
       "      <td>57.76</td>\n",
       "      <td>Casa Tia Villa</td>\n",
       "    </tr>\n",
       "    <tr>\n",
       "      <th>1</th>\n",
       "      <td>3</td>\n",
       "      <td>Ales</td>\n",
       "      <td>FR</td>\n",
       "      <td>53.01</td>\n",
       "      <td>scattered clouds</td>\n",
       "      <td>44.13</td>\n",
       "      <td>4.08</td>\n",
       "      <td>ibis Alès Centre-Ville</td>\n",
       "    </tr>\n",
       "    <tr>\n",
       "      <th>2</th>\n",
       "      <td>4</td>\n",
       "      <td>Saint-Philippe</td>\n",
       "      <td>RE</td>\n",
       "      <td>73.40</td>\n",
       "      <td>broken clouds</td>\n",
       "      <td>-21.36</td>\n",
       "      <td>55.77</td>\n",
       "      <td>Chambres d'hôte \"La Trinité\"</td>\n",
       "    </tr>\n",
       "    <tr>\n",
       "      <th>3</th>\n",
       "      <td>5</td>\n",
       "      <td>East London</td>\n",
       "      <td>ZA</td>\n",
       "      <td>69.80</td>\n",
       "      <td>broken clouds</td>\n",
       "      <td>-33.02</td>\n",
       "      <td>27.91</td>\n",
       "      <td>Tu Casa</td>\n",
       "    </tr>\n",
       "    <tr>\n",
       "      <th>4</th>\n",
       "      <td>6</td>\n",
       "      <td>Castro</td>\n",
       "      <td>BR</td>\n",
       "      <td>65.21</td>\n",
       "      <td>light rain</td>\n",
       "      <td>-24.79</td>\n",
       "      <td>-50.01</td>\n",
       "      <td>CHACARA BAILLY</td>\n",
       "    </tr>\n",
       "    <tr>\n",
       "      <th>5</th>\n",
       "      <td>8</td>\n",
       "      <td>Hilo</td>\n",
       "      <td>US</td>\n",
       "      <td>80.60</td>\n",
       "      <td>overcast clouds</td>\n",
       "      <td>19.73</td>\n",
       "      <td>-155.09</td>\n",
       "      <td>Hilo Hawaiian Hotel</td>\n",
       "    </tr>\n",
       "    <tr>\n",
       "      <th>6</th>\n",
       "      <td>9</td>\n",
       "      <td>Barkly West</td>\n",
       "      <td>ZA</td>\n",
       "      <td>66.20</td>\n",
       "      <td>moderate rain</td>\n",
       "      <td>-28.54</td>\n",
       "      <td>24.52</td>\n",
       "      <td>Stafford Parker Guest House</td>\n",
       "    </tr>\n",
       "    <tr>\n",
       "      <th>7</th>\n",
       "      <td>11</td>\n",
       "      <td>Busselton</td>\n",
       "      <td>AU</td>\n",
       "      <td>52.00</td>\n",
       "      <td>overcast clouds</td>\n",
       "      <td>-33.65</td>\n",
       "      <td>115.33</td>\n",
       "      <td>Observatory Guest House</td>\n",
       "    </tr>\n",
       "    <tr>\n",
       "      <th>8</th>\n",
       "      <td>12</td>\n",
       "      <td>Nizhniy Baskunchak</td>\n",
       "      <td>RU</td>\n",
       "      <td>53.51</td>\n",
       "      <td>clear sky</td>\n",
       "      <td>48.22</td>\n",
       "      <td>46.83</td>\n",
       "      <td>Arman hotel</td>\n",
       "    </tr>\n",
       "    <tr>\n",
       "      <th>9</th>\n",
       "      <td>13</td>\n",
       "      <td>Upington</td>\n",
       "      <td>ZA</td>\n",
       "      <td>69.80</td>\n",
       "      <td>light rain</td>\n",
       "      <td>-28.45</td>\n",
       "      <td>21.26</td>\n",
       "      <td>River Place Manor</td>\n",
       "    </tr>\n",
       "  </tbody>\n",
       "</table>\n",
       "</div>"
      ],
      "text/plain": [
       "   City_ID                City Country  Max Temp Current Description    Lat  \\\n",
       "0        0     Bambous Virieux      MU     73.00         shower rain -20.34   \n",
       "1        3                Ales      FR     53.01    scattered clouds  44.13   \n",
       "2        4      Saint-Philippe      RE     73.40       broken clouds -21.36   \n",
       "3        5         East London      ZA     69.80       broken clouds -33.02   \n",
       "4        6              Castro      BR     65.21          light rain -24.79   \n",
       "5        8                Hilo      US     80.60     overcast clouds  19.73   \n",
       "6        9         Barkly West      ZA     66.20       moderate rain -28.54   \n",
       "7       11           Busselton      AU     52.00     overcast clouds -33.65   \n",
       "8       12  Nizhniy Baskunchak      RU     53.51           clear sky  48.22   \n",
       "9       13            Upington      ZA     69.80          light rain -28.45   \n",
       "\n",
       "      Lng                    Hotel Name  \n",
       "0   57.76                Casa Tia Villa  \n",
       "1    4.08        ibis Alès Centre-Ville  \n",
       "2   55.77  Chambres d'hôte \"La Trinité\"  \n",
       "3   27.91                       Tu Casa  \n",
       "4  -50.01                CHACARA BAILLY  \n",
       "5 -155.09           Hilo Hawaiian Hotel  \n",
       "6   24.52   Stafford Parker Guest House  \n",
       "7  115.33       Observatory Guest House  \n",
       "8   46.83                   Arman hotel  \n",
       "9   21.26             River Place Manor  "
      ]
     },
     "execution_count": 52,
     "metadata": {},
     "output_type": "execute_result"
    }
   ],
   "source": [
    "# 1. Read the WeatherPy_vacation.csv into a DataFrame.\n",
    "vacation_df = pd.read_csv(\"../Vacation_Search/WeatherPy_vacation.csv\")\n",
    "vacation_df.head(10)"
   ]
  },
  {
   "cell_type": "code",
   "execution_count": 53,
   "metadata": {},
   "outputs": [],
   "source": [
    "# 2. Using the template add the city name, the country code, the weather description and maximum temperature for the city.\n",
    "info_box_template = \"\"\"\n",
    "<dl>\n",
    "<dt>Hotel Name</dt><dd>{Hotel Name}</dd>\n",
    "<dt>City</dt><dd>{City}</dd>\n",
    "<dt>Country</dt><dd>{Country}</dd>\n",
    "<dt>Current Weather</dt><dd>{Current Description} and {Max Temp} °F</dd>\n",
    "</dl>\n",
    "\"\"\"\n",
    "\n",
    "# 3a. Get the data from each row and add it to the formatting template and store the data in a list.\n",
    "hotel_info = [info_box_template.format(**row) for index, row in vacation_df.iterrows()]\n",
    "\n",
    "# 3b. Get the latitude and longitude from each row and store in a new DataFrame.\n",
    "locations = vacation_df[[\"Lat\", \"Lng\"]]"
   ]
  },
  {
   "cell_type": "code",
   "execution_count": 54,
   "metadata": {},
   "outputs": [
    {
     "data": {
      "application/vnd.jupyter.widget-view+json": {
       "model_id": "895461c3d72f4f40b8358bc5deee6235",
       "version_major": 2,
       "version_minor": 0
      },
      "text/plain": [
       "Figure(layout=FigureLayout(height='420px'))"
      ]
     },
     "metadata": {},
     "output_type": "display_data"
    }
   ],
   "source": [
    "# 4a. Add a marker layer for each city to the map.\n",
    "max_temp = vacation_df[\"Max Temp\"]\n",
    "fig = gmaps.figure(center=(30.0, 31.0), zoom_level=1.5)\n",
    "heat_layer = gmaps.heatmap_layer(locations, weights=max_temp,dissipating=False,\n",
    "             max_intensity=300, point_radius=4)\n",
    "marker_layer = gmaps.marker_layer(locations, info_box_content=hotel_info)\n",
    "fig.add_layer(heat_layer)\n",
    "fig.add_layer(marker_layer)\n",
    "\n",
    "# 4b. Display the figure\n",
    "fig\n"
   ]
  },
  {
   "cell_type": "code",
   "execution_count": 55,
   "metadata": {},
   "outputs": [],
   "source": [
    "# From the map above pick 4 cities and create a vacation itinerary route to travel between the four cities. \n",
    "# 5. Create DataFrames for each city by filtering the 'vacation_df' using the loc method. \n",
    "# Hint: The starting and ending city should be the same city.\n",
    "\n",
    "vacation_start = vacation_df.loc[vacation_df['City'] == 'Laguna']\n",
    "vacation_end = vacation_df.loc[vacation_df['City'] == 'Laguna']\n",
    "vacation_stop1 = vacation_df.loc[vacation_df['City'] == 'Mill Valley']\n",
    "vacation_stop2 = vacation_df.loc[vacation_df['City'] == 'Half Moon Bay'] \n",
    "vacation_stop3 = vacation_df.loc[vacation_df['City'] == 'San Jose'] "
   ]
  },
  {
   "cell_type": "code",
   "execution_count": 56,
   "metadata": {},
   "outputs": [],
   "source": [
    "# 6. Get the latitude-longitude pairs as tuples from each city DataFrame using the to_numpy function and list indexing.\n",
    "start = tuple(vacation_start[[\"Lat\", \"Lng\"]].to_numpy()[0])\n",
    "end = tuple(vacation_end[[\"Lat\", \"Lng\"]].to_numpy()[0])\n",
    "stop1 = tuple(vacation_stop1[[\"Lat\", \"Lng\"]].to_numpy()[0])\n",
    "stop2 = tuple(vacation_stop2[[\"Lat\", \"Lng\"]].to_numpy()[0])\n",
    "stop3 = tuple(vacation_stop3[[\"Lat\", \"Lng\"]].to_numpy()[0])"
   ]
  },
  {
   "cell_type": "code",
   "execution_count": 57,
   "metadata": {
    "scrolled": true
   },
   "outputs": [
    {
     "data": {
      "application/vnd.jupyter.widget-view+json": {
       "model_id": "1798ce122f074f61b799b9d558844c75",
       "version_major": 2,
       "version_minor": 0
      },
      "text/plain": [
       "Figure(layout=FigureLayout(height='420px'))"
      ]
     },
     "metadata": {},
     "output_type": "display_data"
    }
   ],
   "source": [
    "# 7. Create a direction layer map using the start and end latitude-longitude pairs,\n",
    "# and stop1, stop2, and stop3 as the waypoints. The travel_mode should be \"DRIVING\", \"BICYCLING\", or \"WALKING\".\n",
    "fig = gmaps.figure(center=(30.0, 31.0), zoom_level=1.5)\n",
    "start = start\n",
    "end = end\n",
    "waypoints = [stop1, stop2, stop3]\n",
    "directions = gmaps.directions_layer(start, end, waypoints=waypoints, travel_mode='WALKING')\n",
    "directions = gmaps.directions_layer(start, end, waypoints=waypoints, travel_mode='DRIVING')\n",
    "directions = gmaps.directions_layer(start, end, waypoints=waypoints, travel_mode='BICYCLING')\n",
    "fig.add_layer(directions)\n",
    "\n",
    "fig\n"
   ]
  },
  {
   "cell_type": "code",
   "execution_count": 60,
   "metadata": {},
   "outputs": [
    {
     "data": {
      "text/html": [
       "<div>\n",
       "<style scoped>\n",
       "    .dataframe tbody tr th:only-of-type {\n",
       "        vertical-align: middle;\n",
       "    }\n",
       "\n",
       "    .dataframe tbody tr th {\n",
       "        vertical-align: top;\n",
       "    }\n",
       "\n",
       "    .dataframe thead th {\n",
       "        text-align: right;\n",
       "    }\n",
       "</style>\n",
       "<table border=\"1\" class=\"dataframe\">\n",
       "  <thead>\n",
       "    <tr style=\"text-align: right;\">\n",
       "      <th></th>\n",
       "      <th>City_ID</th>\n",
       "      <th>City</th>\n",
       "      <th>Country</th>\n",
       "      <th>Max Temp</th>\n",
       "      <th>Current Description</th>\n",
       "      <th>Lat</th>\n",
       "      <th>Lng</th>\n",
       "      <th>Hotel Name</th>\n",
       "    </tr>\n",
       "  </thead>\n",
       "  <tbody>\n",
       "    <tr>\n",
       "      <th>0</th>\n",
       "      <td>249</td>\n",
       "      <td>Laguna</td>\n",
       "      <td>US</td>\n",
       "      <td>70.00</td>\n",
       "      <td>clear sky</td>\n",
       "      <td>38.42</td>\n",
       "      <td>-121.42</td>\n",
       "      <td>Holiday Inn Express &amp; Suites Elk Grove Central...</td>\n",
       "    </tr>\n",
       "    <tr>\n",
       "      <th>1</th>\n",
       "      <td>207</td>\n",
       "      <td>Mill Valley</td>\n",
       "      <td>US</td>\n",
       "      <td>69.01</td>\n",
       "      <td>clear sky</td>\n",
       "      <td>37.91</td>\n",
       "      <td>-122.55</td>\n",
       "      <td>Best Western Corte Madera Inn</td>\n",
       "    </tr>\n",
       "    <tr>\n",
       "      <th>2</th>\n",
       "      <td>255</td>\n",
       "      <td>Half Moon Bay</td>\n",
       "      <td>US</td>\n",
       "      <td>69.01</td>\n",
       "      <td>clear sky</td>\n",
       "      <td>37.46</td>\n",
       "      <td>-122.43</td>\n",
       "      <td>The Ritz-Carlton, Half Moon Bay</td>\n",
       "    </tr>\n",
       "    <tr>\n",
       "      <th>3</th>\n",
       "      <td>672</td>\n",
       "      <td>San Jose</td>\n",
       "      <td>US</td>\n",
       "      <td>73.00</td>\n",
       "      <td>haze</td>\n",
       "      <td>37.34</td>\n",
       "      <td>-121.89</td>\n",
       "      <td>The Westin San Jose</td>\n",
       "    </tr>\n",
       "  </tbody>\n",
       "</table>\n",
       "</div>"
      ],
      "text/plain": [
       "   City_ID           City Country  Max Temp Current Description    Lat  \\\n",
       "0      249         Laguna      US     70.00           clear sky  38.42   \n",
       "1      207    Mill Valley      US     69.01           clear sky  37.91   \n",
       "2      255  Half Moon Bay      US     69.01           clear sky  37.46   \n",
       "3      672       San Jose      US     73.00                haze  37.34   \n",
       "\n",
       "      Lng                                         Hotel Name  \n",
       "0 -121.42  Holiday Inn Express & Suites Elk Grove Central...  \n",
       "1 -122.55                      Best Western Corte Madera Inn  \n",
       "2 -122.43                    The Ritz-Carlton, Half Moon Bay  \n",
       "3 -121.89                                The Westin San Jose  "
      ]
     },
     "execution_count": 60,
     "metadata": {},
     "output_type": "execute_result"
    }
   ],
   "source": [
    "# 8. To create a marker layer map between the four cities.\n",
    "#  Combine the four city DataFrames into one DataFrame using the concat() function.\n",
    "itinerary_df = pd.concat([vacation_start, vacation_stop1, vacation_stop2, vacation_stop3],ignore_index=True)\n",
    "itinerary_df"
   ]
  },
  {
   "cell_type": "code",
   "execution_count": 61,
   "metadata": {},
   "outputs": [],
   "source": [
    "# 9 Using the template add city name, the country code, the weather description and maximum temperature for the city. \n",
    "info_box_template = \"\"\"\n",
    "<dl>\n",
    "<dt>Hotel Name</dt><dd>{Hotel Name}</dd>\n",
    "<dt>City</dt><dd>{City}</dd>\n",
    "<dt>Country</dt><dd>{Country}</dd>\n",
    "<dt>Current Weather</dt><dd>{Current Description} and {Max Temp} °F</dd>\n",
    "</dl>\n",
    "\"\"\"\n",
    "\n",
    "# 10a Get the data from each row and add it to the formatting template and store the data in a list.\n",
    "hotel_info = [info_box_template.format(**row) for index, row in itinerary_df.iterrows()]\n",
    "\n",
    "# 10b. Get the latitude and longitude from each row and store in a new DataFrame.\n",
    "locations = itinerary_df[[\"Lat\", \"Lng\"]]"
   ]
  },
  {
   "cell_type": "code",
   "execution_count": 62,
   "metadata": {},
   "outputs": [
    {
     "data": {
      "application/vnd.jupyter.widget-view+json": {
       "model_id": "b09de6307c224b9ea940d8290ccdbc8b",
       "version_major": 2,
       "version_minor": 0
      },
      "text/plain": [
       "Figure(layout=FigureLayout(height='420px'))"
      ]
     },
     "metadata": {},
     "output_type": "display_data"
    }
   ],
   "source": [
    "# 11a. Add a marker layer for each city to the map.\n",
    "fig = gmaps.figure(center=(30.0, 31.0), zoom_level=1.5)\n",
    "marker_layer = gmaps.marker_layer(locations, info_box_content=hotel_info)\n",
    "fig.add_layer(marker_layer)\n",
    "# 11b. Display the figure\n",
    "fig"
   ]
  },
  {
   "cell_type": "code",
   "execution_count": null,
   "metadata": {},
   "outputs": [],
   "source": []
  }
 ],
 "metadata": {
  "kernelspec": {
   "display_name": "PythonData",
   "language": "python",
   "name": "pythondata"
  },
  "language_info": {
   "codemirror_mode": {
    "name": "ipython",
    "version": 3
   },
   "file_extension": ".py",
   "mimetype": "text/x-python",
   "name": "python",
   "nbconvert_exporter": "python",
   "pygments_lexer": "ipython3",
   "version": "3.7.7"
  },
  "latex_envs": {
   "LaTeX_envs_menu_present": true,
   "autoclose": false,
   "autocomplete": true,
   "bibliofile": "biblio.bib",
   "cite_by": "apalike",
   "current_citInitial": 1,
   "eqLabelWithNumbers": true,
   "eqNumInitial": 1,
   "hotkeys": {
    "equation": "Ctrl-E",
    "itemize": "Ctrl-I"
   },
   "labels_anchors": false,
   "latex_user_defs": false,
   "report_style_numbering": false,
   "user_envs_cfg": false
  }
 },
 "nbformat": 4,
 "nbformat_minor": 2
}
